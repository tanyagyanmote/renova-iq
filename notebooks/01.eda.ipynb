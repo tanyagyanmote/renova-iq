{
 "cells": [
  {
   "cell_type": "code",
   "execution_count": 75,
   "metadata": {},
   "outputs": [],
   "source": [
    "import pandas as pd\n",
    "import numpy as np\n",
    "\n",
    "# Display options (purely for readability)\n",
    "pd.set_option(\"display.max_columns\", 100)\n",
    "pd.set_option(\"display.width\", 120)\n"
   ]
  },
  {
   "cell_type": "code",
   "execution_count": 76,
   "metadata": {},
   "outputs": [],
   "source": [
    "# Load the full dataset (uses all 300k+ rows)\n",
    "df = pd.read_csv(\"../data/realtor-data.csv\")"
   ]
  },
  {
   "cell_type": "code",
   "execution_count": 77,
   "metadata": {},
   "outputs": [
    {
     "name": "stdout",
     "output_type": "stream",
     "text": [
      "<class 'pandas.core.frame.DataFrame'>\n",
      "RangeIndex: 2226382 entries, 0 to 2226381\n",
      "Data columns (total 12 columns):\n",
      " #   Column          Dtype  \n",
      "---  ------          -----  \n",
      " 0   brokered_by     float64\n",
      " 1   status          object \n",
      " 2   price           float64\n",
      " 3   bed             float64\n",
      " 4   bath            float64\n",
      " 5   acre_lot        float64\n",
      " 6   street          float64\n",
      " 7   city            object \n",
      " 8   state           object \n",
      " 9   zip_code        float64\n",
      " 10  house_size      float64\n",
      " 11  prev_sold_date  object \n",
      "dtypes: float64(8), object(4)\n",
      "memory usage: 203.8+ MB\n"
     ]
    },
    {
     "data": {
      "text/plain": [
       "prev_sold_date    0.329816\n",
       "house_size        0.255340\n",
       "bath              0.229867\n",
       "bed               0.216188\n",
       "acre_lot          0.146241\n",
       "street            0.004881\n",
       "brokered_by       0.002036\n",
       "price             0.000692\n",
       "city              0.000632\n",
       "zip_code          0.000134\n",
       "dtype: float64"
      ]
     },
     "execution_count": 77,
     "metadata": {},
     "output_type": "execute_result"
    }
   ],
   "source": [
    "df.info()        # column types & null counts\n",
    "df.describe(include=[np.number])\n",
    "df.isna().mean().sort_values(ascending=False).head(10)  # top missing columns (fraction)"
   ]
  },
  {
   "cell_type": "code",
   "execution_count": 78,
   "metadata": {},
   "outputs": [
    {
     "data": {
      "text/plain": [
       "((197534, 7),\n",
       "                 price  bed  bath  house_size  acre_lot zip_code       state\n",
       " 160666   3.000000e+06  7.0   6.0      6889.0      0.21        0  California\n",
       " 221994   2.147484e+09  2.0   2.0       885.0      0.12  unknown  California\n",
       " 1208977  1.999000e+05  3.0   1.0      1014.0      0.18    92225  California\n",
       " 1208998  1.729990e+05  3.0   2.0      1132.0      0.16    92225  California\n",
       " 1209109  7.990000e+04  4.0   2.0      1272.0      0.16    92225  California)"
      ]
     },
     "execution_count": 78,
     "metadata": {},
     "output_type": "execute_result"
    }
   ],
   "source": [
    "# keep only needed columns\n",
    "keep = [\"price\", \"bed\", \"bath\", \"house_size\", \"acre_lot\", \"zip_code\", \"state\"]\n",
    "df = df[keep].copy()\n",
    "\n",
    "# coerce numerics\n",
    "for col in [\"price\", \"bed\", \"bath\", \"house_size\", \"acre_lot\"]:\n",
    "    df[col] = pd.to_numeric(df[col], errors=\"coerce\")\n",
    "\n",
    "# drop rows missing target/core features\n",
    "df = df.dropna(subset=[\"price\", \"house_size\"])\n",
    "\n",
    "# fill small gaps\n",
    "df[\"bed\"] = df[\"bed\"].fillna(df[\"bed\"].median())\n",
    "df[\"bath\"] = df[\"bath\"].fillna(df[\"bath\"].median())\n",
    "df[\"acre_lot\"] = df[\"acre_lot\"].fillna(df[\"acre_lot\"].median())\n",
    "\n",
    "# normalize ZIP to digits-as-string\n",
    "df[\"zip_code\"] = df[\"zip_code\"].astype(str).str.extract(r\"(\\d+)\")\n",
    "df[\"zip_code\"] = df[\"zip_code\"].fillna(\"unknown\")\n",
    "\n",
    "df[df[\"state\"] == \"California\"][\"zip_code\"].nunique()\n",
    "\n",
    "# ✅ filter to California only\n",
    "df = df[df[\"state\"] == \"California\"].copy()\n",
    "\n",
    "# basic sanity filters to remove obvious junk\n",
    "df = df[(df[\"price\"] > 1000) & (df[\"house_size\"] > 200)]\n",
    "\n",
    "df.shape, df.head()\n"
   ]
  },
  {
   "cell_type": "code",
   "execution_count": 79,
   "metadata": {},
   "outputs": [
    {
     "data": {
      "text/plain": [
       "(197534, 1667)"
      ]
     },
     "execution_count": 79,
     "metadata": {},
     "output_type": "execute_result"
    }
   ],
   "source": [
    "# one-hot encode ZIP only (state is constant now)\n",
    "df_enc = pd.get_dummies(df, columns=[\"zip_code\"], drop_first=True)\n",
    "\n",
    "# features (X) and target (y)\n",
    "X = df_enc.drop(columns=[\"price\", \"state\"])   # state is constant 'California'\n",
    "y = df_enc[\"price\"]\n",
    "\n",
    "X.shape\n"
   ]
  },
  {
   "cell_type": "code",
   "execution_count": 80,
   "metadata": {},
   "outputs": [
    {
     "data": {
      "text/plain": [
       "((158027, 1667), (39507, 1667))"
      ]
     },
     "execution_count": 80,
     "metadata": {},
     "output_type": "execute_result"
    }
   ],
   "source": [
    "from sklearn.model_selection import train_test_split\n",
    "\n",
    "X_train, X_test, y_train, y_test = train_test_split(\n",
    "    X, y, test_size=0.20, random_state=42\n",
    ")\n",
    "\n",
    "X_train.shape, X_test.shape\n"
   ]
  },
  {
   "cell_type": "code",
   "execution_count": 81,
   "metadata": {},
   "outputs": [
    {
     "name": "stdout",
     "output_type": "stream",
     "text": [
      "MAE: $389,607\n",
      "R²: 0.4577\n"
     ]
    }
   ],
   "source": [
    "from sklearn.linear_model import Ridge\n",
    "from sklearn.metrics import mean_absolute_error, r2_score\n",
    "\n",
    "model = Ridge(alpha=1.0)  # try 0.1, 1.0, 10.0 for tuning\n",
    "model.fit(X_train, y_train)\n",
    "\n",
    "y_pred = model.predict(X_test)\n",
    "print(\"MAE: ${:,.0f}\".format(mean_absolute_error(y_test, y_pred)))\n",
    "print(\"R²:\", round(r2_score(y_test, y_pred), 4))\n"
   ]
  },
  {
   "cell_type": "code",
   "execution_count": 82,
   "metadata": {},
   "outputs": [
    {
     "name": "stdout",
     "output_type": "stream",
     "text": [
      "Predicted price (94582): $1,566,561\n"
     ]
    }
   ],
   "source": [
    "def predict_price_zip(bed, bath, sqft, acre_lot, zip_code, model=model):\n",
    "    # base numeric features row\n",
    "    row = pd.DataFrame([{\n",
    "        \"bed\": bed, \"bath\": bath, \"house_size\": sqft, \"acre_lot\": acre_lot\n",
    "    }])\n",
    "\n",
    "    # align columns with training X\n",
    "    row = row.reindex(columns=X.columns, fill_value=0)\n",
    "\n",
    "    # flip the correct ZIP one-hot flag if it exists\n",
    "    col = f\"zip_code_{zip_code}\"\n",
    "    if col in row.columns:\n",
    "        row[col] = 1\n",
    "    else:\n",
    "        # fallback: no exact ZIP in training → leave all ZIP dummies at 0\n",
    "        # (model will behave like \"average ZIP\" within CA)\n",
    "        pass\n",
    "\n",
    "    return float(model.predict(row)[0])\n",
    "\n",
    "# example: San Ramon 94582 (change as needed)\n",
    "pred = predict_price_zip(bed=4, bath=2, sqft=2513, acre_lot=0.15, zip_code=\"94583\")\n",
    "print(f\"Predicted price (94582): ${pred:,.0f}\")\n"
   ]
  },
  {
   "cell_type": "code",
   "execution_count": 83,
   "metadata": {},
   "outputs": [
    {
     "data": {
      "text/plain": [
       "{'base_price': 1065121.9166157863,\n",
       " 'after_price': 1279873.4704744015,\n",
       " 'value_uplift': 214751.55385861523,\n",
       " 'capex': 140000,\n",
       " 'roi_percent': 0.5339396704186802}"
      ]
     },
     "execution_count": 83,
     "metadata": {},
     "output_type": "execute_result"
    }
   ],
   "source": [
    "def renovation_roi_zip(bed, bath, sqft, acre_lot, zip_code, add_sqft=400, capex_per_sqft=300):\n",
    "    base = predict_price_zip(bed, bath, sqft, acre_lot, zip_code)\n",
    "    after = predict_price_zip(bed, bath, sqft + add_sqft, acre_lot, zip_code)\n",
    "    capex = add_sqft * capex_per_sqft\n",
    "    roi_gain = after - base\n",
    "    roi_pct = (roi_gain - capex) / capex if capex > 0 else np.nan\n",
    "    return {\n",
    "        \"base_price\": base,\n",
    "        \"after_price\": after,\n",
    "        \"value_uplift\": roi_gain,\n",
    "        \"capex\": capex,\n",
    "        \"roi_percent\": roi_pct\n",
    "    }\n",
    "\n",
    "roi = renovation_roi_zip(3, 2, 1450, 0.10, \"94582\", add_sqft=400, capex_per_sqft=350)\n",
    "roi\n"
   ]
  },
  {
   "cell_type": "code",
   "execution_count": 84,
   "metadata": {},
   "outputs": [
    {
     "data": {
      "text/plain": [
       "['../ml/model_ca_zip_ridge.joblib']"
      ]
     },
     "execution_count": 84,
     "metadata": {},
     "output_type": "execute_result"
    }
   ],
   "source": [
    "import joblib\n",
    "joblib.dump(model, \"../ml/model_ca_zip_ridge.joblib\")\n",
    "# joblib.dump(gbr, \"../ml/model_ca_zip_hgbr.joblib\")  # if you trained HGBR"
   ]
  }
 ],
 "metadata": {
  "kernelspec": {
   "display_name": ".venv",
   "language": "python",
   "name": "python3"
  },
  "language_info": {
   "codemirror_mode": {
    "name": "ipython",
    "version": 3
   },
   "file_extension": ".py",
   "mimetype": "text/x-python",
   "name": "python",
   "nbconvert_exporter": "python",
   "pygments_lexer": "ipython3",
   "version": "3.10.11"
  }
 },
 "nbformat": 4,
 "nbformat_minor": 2
}
